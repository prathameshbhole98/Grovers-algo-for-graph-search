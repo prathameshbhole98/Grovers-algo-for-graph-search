{
 "cells": [
  {
   "cell_type": "code",
   "execution_count": 1,
   "metadata": {},
   "outputs": [],
   "source": [
    "edges = [ ('P', 'Q'),('Q', 'R'), ('R', 'S'), ('S', 'P'), ('P', 'R'), ('Q', 'S')]"
   ]
  },
  {
   "cell_type": "code",
   "execution_count": 2,
   "metadata": {},
   "outputs": [],
   "source": [
    "from qiskit import BasicAer\n",
    "from qiskit.tools.visualization import plot_histogram\n",
    "from qiskit.aqua import QuantumInstance\n",
    "from qiskit.aqua.algorithms import Grover\n",
    "from qiskit.aqua.components.oracles import TruthTableOracle\n",
    "\n",
    "from typing import Dict, Tuple, List\n",
    "from time import time\n",
    "\n",
    "\n",
    "from graph import graph_types as t\n",
    "from graph.evaluators import HamiltonianEvaluator\n",
    "\n",
    "class groversearch:\n",
    "    def call_grover(truth_map: str, num_vertices: int, shots=1024) -> dict:\n",
    "       \n",
    "        start = time()\n",
    "\n",
    "        oracle = TruthTableOracle(truth_map)\n",
    "        grover = Grover(oracle)  \n",
    "        result = grover.run(QuantumInstance(BasicAer.get_backend('qasm_simulator'), shots=shots))\n",
    "\n",
    "        end = time()\n",
    "        print('Grover\\'s search on n = {} vertices:\\nTime elapsed: {}s\\n'.format(num_vertices, end - start))\n",
    "        return result\n",
    "    def get_truth_map(truth_table: Dict[Tuple[t.edge, ...], bool]) -> str:\n",
    "        \n",
    "        binary_repr = ''\n",
    "        for key, val in truth_table.items():\n",
    "            binary_repr += str(int(val))  \n",
    "\n",
    "    \n",
    "        while not (len(binary_repr) != 0 and len(binary_repr) & (len(binary_repr) - 1) == 0):\n",
    "            binary_repr += '0'\n",
    "\n",
    "        return binary_repr\n",
    "    def run_grovers(graph_edge_set: List[t.edge], plot: bool = False, graph_str: str = None) -> List[t.edge]:\n",
    "       \n",
    "        if graph_str is not None:\n",
    "            print(graph_str)\n",
    "\n",
    "        evaluator = HamiltonianEvaluator(graph_edge_set)\n",
    "        truth_table = evaluator.generate_truth_table()\n",
    "        truth_map = groversearch.get_truth_map(truth_table)\n",
    "\n",
    "        if len(truth_map) <= 1:\n",
    "            print('Unable to run Grover\\'s search. Not enough edge combinations.\\n')\n",
    "            return []\n",
    "\n",
    "        result = groversearch.call_grover(truth_map, len(evaluator.vertices))\n",
    "\n",
    "        if plot:\n",
    "            plot_histogram(result['measurement'])  # One for Jupyter\n",
    "    \n",
    "            print(result['circuit'].draw())\n",
    "\n",
    "        \n",
    "        index = int(result['top_measurement'], 2)\n",
    "        result = list(truth_table.items())[index]\n",
    "\n",
    "        \n",
    "        if result[1]:\n",
    "            return list(result[0])\n",
    "        else:\n",
    "            return []"
   ]
  },
  {
   "cell_type": "code",
   "execution_count": 3,
   "metadata": {},
   "outputs": [
    {
     "name": "stdout",
     "output_type": "stream",
     "text": [
      "Grover's search on n = 4 vertices:\n",
      "Time elapsed: 0.6967532634735107s\n",
      "\n",
      "      ┌───┐┌────┐┌─┐         \n",
      " q_0: ┤ H ├┤0   ├┤M├─────────\n",
      "      ├───┤│    │└╥┘┌─┐      \n",
      " q_1: ┤ H ├┤1   ├─╫─┤M├──────\n",
      "      ├───┤│    │ ║ └╥┘┌─┐   \n",
      " q_2: ┤ H ├┤2   ├─╫──╫─┤M├───\n",
      "      ├───┤│    │ ║  ║ └╥┘┌─┐\n",
      " q_3: ┤ H ├┤3 Q ├─╫──╫──╫─┤M├\n",
      "      └───┘│    │ ║  ║  ║ └╥┘\n",
      " q_4: ─────┤4   ├─╫──╫──╫──╫─\n",
      "           │    │ ║  ║  ║  ║ \n",
      " q_5: ─────┤5   ├─╫──╫──╫──╫─\n",
      "           │    │ ║  ║  ║  ║ \n",
      " q_6: ─────┤6   ├─╫──╫──╫──╫─\n",
      "           └────┘ ║  ║  ║  ║ \n",
      "c0: 4/════════════╩══╩══╩══╩═\n",
      "                  0  1  2  3 \n"
     ]
    },
    {
     "data": {
      "text/plain": [
       "[('Q', 'R'), ('S', 'P'), ('P', 'R'), ('Q', 'S')]"
      ]
     },
     "execution_count": 3,
     "metadata": {},
     "output_type": "execute_result"
    }
   ],
   "source": [
    "groversearch.run_grovers(edges, plot=True)"
   ]
  },
  {
   "cell_type": "code",
   "execution_count": 4,
   "metadata": {},
   "outputs": [
    {
     "data": {
      "text/plain": [
       "{(('P', 'Q'), ('Q', 'R'), ('R', 'S'), ('S', 'P')): True,\n",
       " (('P', 'Q'), ('Q', 'R'), ('R', 'S'), ('P', 'R')): False,\n",
       " (('P', 'Q'), ('Q', 'R'), ('R', 'S'), ('Q', 'S')): False,\n",
       " (('P', 'Q'), ('Q', 'R'), ('S', 'P'), ('P', 'R')): False,\n",
       " (('P', 'Q'), ('Q', 'R'), ('S', 'P'), ('Q', 'S')): False,\n",
       " (('P', 'Q'), ('Q', 'R'), ('P', 'R'), ('Q', 'S')): False,\n",
       " (('P', 'Q'), ('R', 'S'), ('S', 'P'), ('P', 'R')): False,\n",
       " (('P', 'Q'), ('R', 'S'), ('S', 'P'), ('Q', 'S')): False,\n",
       " (('P', 'Q'), ('R', 'S'), ('P', 'R'), ('Q', 'S')): True,\n",
       " (('P', 'Q'), ('S', 'P'), ('P', 'R'), ('Q', 'S')): False,\n",
       " (('Q', 'R'), ('R', 'S'), ('S', 'P'), ('P', 'R')): False,\n",
       " (('Q', 'R'), ('R', 'S'), ('S', 'P'), ('Q', 'S')): False,\n",
       " (('Q', 'R'), ('R', 'S'), ('P', 'R'), ('Q', 'S')): False,\n",
       " (('Q', 'R'), ('S', 'P'), ('P', 'R'), ('Q', 'S')): True,\n",
       " (('R', 'S'), ('S', 'P'), ('P', 'R'), ('Q', 'S')): False}"
      ]
     },
     "execution_count": 4,
     "metadata": {},
     "output_type": "execute_result"
    }
   ],
   "source": [
    "evl = HamiltonianEvaluator(edges)\n",
    "truth_table = evl.generate_truth_table()\n",
    "truth_table"
   ]
  },
  {
   "cell_type": "code",
   "execution_count": 5,
   "metadata": {},
   "outputs": [
    {
     "name": "stdout",
     "output_type": "stream",
     "text": [
      "(('P', 'Q'), ('Q', 'R'), ('R', 'S'), ('S', 'P'))\n",
      "(('P', 'Q'), ('R', 'S'), ('P', 'R'), ('Q', 'S'))\n",
      "(('Q', 'R'), ('S', 'P'), ('P', 'R'), ('Q', 'S'))\n"
     ]
    }
   ],
   "source": [
    "for edges, is_hamiltonian in truth_table.items():\n",
    "    if is_hamiltonian:\n",
    "        print(edges)"
   ]
  },
  {
   "cell_type": "code",
   "execution_count": 6,
   "metadata": {},
   "outputs": [
    {
     "data": {
      "text/plain": [
       "4"
      ]
     },
     "execution_count": 6,
     "metadata": {},
     "output_type": "execute_result"
    }
   ],
   "source": [
    "import math\n",
    "\n",
    "truth_map = groversearch.get_truth_map(truth_table)\n",
    "shots = math.ceil(math.sqrt(len(truth_map)))\n",
    "shots"
   ]
  },
  {
   "cell_type": "code",
   "execution_count": 7,
   "metadata": {},
   "outputs": [
    {
     "name": "stdout",
     "output_type": "stream",
     "text": [
      "Grover's search on n = 4 vertices:\n",
      "Time elapsed: 0.15833020210266113s\n",
      "\n"
     ]
    }
   ],
   "source": [
    "result = groversearch.call_grover(truth_map, len(evl.vertices),\n",
    "                                  shots=1024)"
   ]
  },
  {
   "cell_type": "code",
   "execution_count": 8,
   "metadata": {},
   "outputs": [],
   "source": [
    "from qiskit.tools.visualization import plot_histogram"
   ]
  },
  {
   "cell_type": "code",
   "execution_count": 9,
   "metadata": {},
   "outputs": [
    {
     "data": {
      "image/png": "[encoded data removed]",
      "text/plain": [
       "<Figure size 504x360 with 1 Axes>"
      ]
     },
     "execution_count": 9,
     "metadata": {},
     "output_type": "execute_result"
    }
   ],
   "source": [
    "plot_histogram(result['measurement'], title='Possible Hamiltonian Cycles')"
   ]
  },
  {
   "cell_type": "code",
   "execution_count": 10,
   "metadata": {},
   "outputs": [],
   "source": [
    "combinations_set = list(truth_table.keys())\n",
    "enumeration_to_edges = lambda bin_combo: combinations_set[int(str(bin_combo), 2)]"
   ]
  },
  {
   "cell_type": "code",
   "execution_count": 11,
   "metadata": {},
   "outputs": [
    {
     "name": "stdout",
     "output_type": "stream",
     "text": [
      "Input the edge combination: 0\n",
      "(('P', 'Q'), ('Q', 'R'), ('R', 'S'), ('S', 'P'))\n"
     ]
    }
   ],
   "source": [
    "combo = input('Input the edge combination: ')\n",
    "print(enumeration_to_edges(combo))"
   ]
  },
  {
   "cell_type": "code",
   "execution_count": null,
   "metadata": {},
   "outputs": [],
   "source": []
  }
 ],
 "metadata": {
  "kernelspec": {
   "display_name": "Python 3",
   "language": "python",
   "name": "python3"
  },
  "language_info": {
   "codemirror_mode": {
    "name": "ipython",
    "version": 3
   },
   "file_extension": ".py",
   "mimetype": "text/x-python",
   "name": "python",
   "nbconvert_exporter": "python",
   "pygments_lexer": "ipython3",
   "version": "3.8.5"
  }
 },
 "nbformat": 4,
 "nbformat_minor": 4
}
